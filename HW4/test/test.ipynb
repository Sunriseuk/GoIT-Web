{
 "cells": [
  {
   "attachments": {},
   "cell_type": "markdown",
   "metadata": {},
   "source": [
    "Клиент создаем с помощью класса HTTPConnection и указываем хост (адрес) и порт сервера. Клиент делает GET-запрос на http://localhost:8001/, вызывая метод getresponse, и выводит в консоль тело ответа. Чтобы проверить, что ответ содержит тело, мы можем проверить статус-код ответа (res.status) и причину ошибки (res.reason), если такая была.\n",
    "Чтобы запустить сервер в работу и не блокировать приложение, запустим его в отдельном потоке:\n"
   ]
  },
  {
   "cell_type": "code",
   "execution_count": 1,
   "metadata": {},
   "outputs": [
    {
     "name": "stderr",
     "output_type": "stream",
     "text": [
      "127.0.0.1 - - [21/Dec/2022 16:28:48] \"GET / HTTP/1.1\" 200 -\n"
     ]
    },
    {
     "name": "stdout",
     "output_type": "stream",
     "text": [
      "200 OK\n",
      "b'Hello, world!'\n"
     ]
    }
   ],
   "source": [
    "from threading import Thread\n",
    "from time import sleep\n",
    "from http import client\n",
    "from http.server import HTTPServer, BaseHTTPRequestHandler\n",
    "\n",
    "\n",
    "class SimpleHTTPRequestHandler(BaseHTTPRequestHandler):\n",
    "\n",
    "    def do_GET(self):\n",
    "        self.send_response(200)\n",
    "        self.end_headers()\n",
    "        self.wfile.write(b'Hello, world!')\n",
    "\n",
    "    def do_POST(self):\n",
    "        pass\n",
    "\n",
    "\n",
    "httpd = HTTPServer(('localhost', 8001), SimpleHTTPRequestHandler)\n",
    "server = Thread(target=httpd.serve_forever)\n",
    "server.start()\n",
    "sleep(0.5)\n",
    "\n",
    "h1 = client.HTTPConnection('localhost', 8001)\n",
    "h1.request(\"GET\", \"/\")\n",
    "\n",
    "res = h1.getresponse()\n",
    "print(res.status, res.reason)\n",
    "data = res.read()\n",
    "print(data)\n",
    "\n",
    "httpd.shutdown()\n"
   ]
  }
 ],
 "metadata": {
  "kernelspec": {
   "display_name": "Python 3",
   "language": "python",
   "name": "python3"
  },
  "language_info": {
   "codemirror_mode": {
    "name": "ipython",
    "version": 3
   },
   "file_extension": ".py",
   "mimetype": "text/x-python",
   "name": "python",
   "nbconvert_exporter": "python",
   "pygments_lexer": "ipython3",
   "version": "3.10.9"
  },
  "orig_nbformat": 4,
  "vscode": {
   "interpreter": {
    "hash": "ed7be02089ffed073fc94961a2816327ba503e6ccd40fc2b18e98827abff8348"
   }
  }
 },
 "nbformat": 4,
 "nbformat_minor": 2
}
