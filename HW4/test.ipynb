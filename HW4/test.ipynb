{
 "cells": [
  {
   "attachments": {},
   "cell_type": "markdown",
   "metadata": {},
   "source": [
    "Напишите реализацию функции factorize, которая принимает список чисел и возвращает список чисел, на которые числа из входного списка делятся без остатка.\n",
    "\n",
    "Реализуйте синхронную версию и измерьте время выполнения.\n",
    "\n",
    "Потом улучшите производительность вашей функции, реализовав использование нескольких ядер процессора для параллельных вычислений, и замерьте время выполнения опять. Для определения количества ядер на машине используйте функцию cpu_count() из пакета multiprocessing\n",
    "\n",
    "Для проверки правильности работы алгоритма самой функции можете воспользоваться тестом:\n",
    "\n",
    "def factorize(*number):\n",
    "    # YOUR CODE HERE\n",
    "    raise NotImplementedError() # Remove after implementation\n",
    "\n",
    "\n",
    "a, b, c, d  = factorize(128, 255, 99999, 10651060)\n",
    "\n",
    "assert a == [1, 2, 4, 8, 16, 32, 64, 128]\n",
    "assert b == [1, 3, 5, 15, 17, 51, 85, 255]\n",
    "assert c == [1, 3, 9, 41, 123, 271, 369, 813, 2439, 11111, 33333, 99999]\n",
    "assert d == [1, 2, 4, 5, 7, 10, 14, 20, 28, 35, 70, 140, 76079, 152158, 304316, 380395, 532553, 760790, 1065106, 1521580, 2130212, 2662765, 5325530, 10651060]"
   ]
  },
  {
   "cell_type": "code",
   "execution_count": null,
   "metadata": {},
   "outputs": [],
   "source": [
    "\n",
    "\n",
    "def factorize(*number):\n",
    "    # YOUR CODE HERE\n",
    "    raise NotImplementedError() # Remove after implementation\n",
    "\n",
    "\n",
    "a, b, c, d  = factorize(128, 255, 99999, 10651060)\n",
    "\n",
    "assert a == [1, 2, 4, 8, 16, 32, 64, 128]\n",
    "assert b == [1, 3, 5, 15, 17, 51, 85, 255]\n",
    "assert c == [1, 3, 9, 41, 123, 271, 369, 813, 2439, 11111, 33333, 99999]\n",
    "assert d == [1, 2, 4, 5, 7, 10, 14, 20, 28, 35, 70, 140, 76079, 152158, 304316, 380395, 532553, 760790, 1065106, 1521580, 2130212, 2662765, 5325530, 10651060]"
   ]
  },
  {
   "cell_type": "code",
   "execution_count": 34,
   "metadata": {},
   "outputs": [
    {
     "name": "stdout",
     "output_type": "stream",
     "text": [
      "Divisors of 128 is [1, 2, 4, 8, 16, 32, 64, 128]\n",
      "Divisors of 255 is [1, 3, 5, 15, 17, 51, 85, 255]\n",
      "Divisors of 99999 is [1, 3, 9, 41, 123, 271, 369, 813, 2439, 11111, 33333, 99999]\n",
      "Divisors of 10651060 is [1, 2, 4, 5, 7, 10, 14, 20, 28, 35, 70, 140, 76079, 152158, 304316, 380395, 532553, 760790, 1065106, 1521580, 2130212, 2662765, 5325530, 10651060]\n",
      "Divisors of 106510609 is [1, 347, 306947, 106510609]\n",
      "\n",
      "Work-time is 6.716651916503906 seconds\n"
     ]
    }
   ],
   "source": [
    "from time import time\n",
    "\n",
    "def factorize(*numbers):\n",
    "    for number in numbers:\n",
    "        div = []\n",
    "        for divisors in range (1, number+1):\n",
    "            if number % divisors == 0:\n",
    "                div.append(divisors)\n",
    "        print(f'Divisors of {number} is {div}')\n",
    "        \n",
    "\n",
    "before = time()\n",
    "\n",
    "factorize(128, 255, 99999, 10651060, 106510609)\n",
    "\n",
    "after = time()\n",
    "print()\n",
    "print(f'Work-time is {after-before} seconds')"
   ]
  },
  {
   "cell_type": "code",
   "execution_count": 69,
   "metadata": {},
   "outputs": [
    {
     "name": "stdout",
     "output_type": "stream",
     "text": [
      "['Process-114', 'Process-115', 'Process-116']\n",
      "Work-time is 0.09452629089355469 seconds\n"
     ]
    }
   ],
   "source": [
    "from time import time\n",
    "from multiprocessing import Process\n",
    "\n",
    "\n",
    "def factorize(number):\n",
    "    div = []\n",
    "    for divisor in range (1, number+1):\n",
    "        if number % divisor == 0:\n",
    "            div.append(divisor)\n",
    "    print(f'Divisors of {number} is {div}')\n",
    "        \n",
    "\n",
    "before = time()\n",
    "\n",
    "if __name__ == '__main__':\n",
    "    processes = []\n",
    "    for i in range(3):\n",
    "        pr = Process(target=factorize, args=[128, 255, 99999, 10651060, 106510609])\n",
    "        pr.start()\n",
    "        processes.append(pr.name)\n",
    "\n",
    "\n",
    "after = time()\n",
    "print(processes)\n",
    "print(f'Work-time is {after-before} seconds')"
   ]
  },
  {
   "cell_type": "code",
   "execution_count": 64,
   "metadata": {},
   "outputs": [
    {
     "name": "stdout",
     "output_type": "stream",
     "text": [
      "Divisors of 128 is [1, 2, 4, 8, 16, 32, 64, 128]\n",
      "Divisors of 255 is [1, 3, 5, 15, 17, 51, 85, 255]\n",
      "Divisors of 99999 is [1, 3, 9, 41, 123, 271, 369, 813, 2439, 11111, 33333, 99999]\n",
      "Divisors of 10651060 is [1, 2, 4, 5, 7, 10, 14, 20, 28, 35, 70, 140, 76079, 152158, 304316, 380395, 532553, 760790, 1065106, 1521580, 2130212, 2662765, 5325530, 10651060]\n",
      "Divisors of 106510609 is [1, 347, 306947, 106510609]\n",
      "\n",
      "['Process-100', 'Process-101', 'Process-102', 'Process-103']\n",
      "\n",
      "Work-time is 6.9909539222717285 seconds\n"
     ]
    }
   ],
   "source": [
    "from time import time\n",
    "from multiprocessing import Process\n",
    "\n",
    "def factorize(*numbers):\n",
    "    for number in numbers:\n",
    "        div = []\n",
    "        for divisors in range (1, number+1):\n",
    "            if number % divisors == 0:\n",
    "                div.append(divisors)\n",
    "        print(f'Divisors of {number} is {div}')\n",
    "        \n",
    "\n",
    "before = time()\n",
    "\n",
    "\n",
    "processes = []\n",
    "for i in range(4):\n",
    "    pr = Process(target=factorize)\n",
    "    pr.start()\n",
    "    processes.append(pr.name)\n",
    "\n",
    "factorize(128, 255, 99999, 10651060, 106510609)\n",
    "\n",
    "after = time()\n",
    "print()\n",
    "print(processes)\n",
    "print()\n",
    "print(f'Work-time is {after-before} seconds')"
   ]
  },
  {
   "cell_type": "code",
   "execution_count": 1,
   "metadata": {},
   "outputs": [
    {
     "name": "stdout",
     "output_type": "stream",
     "text": [
      "Divisors of 128 is [1, 2, 4, 8, 16, 32, 64, 128]\n",
      "Divisors of 255 is [1, 3, 5, 15, 17, 51, 85, 255]\n",
      "Divisors of 99999 is [1, 3, 9, 41, 123, 271, 369, 813, 2439, 11111, 33333, 99999]\n",
      "Divisors of 10651060 is [1, 2, 4, 5, 7, 10, 14, 20, 28, 35, 70, 140, 76079, 152158, 304316, 380395, 532553, 760790, 1065106, 1521580, 2130212, 2662765, 5325530, 10651060]\n",
      "Divisors of 106510609 is [1, 347, 306947, 106510609]\n",
      "час виконання лінійно: 6.73252010345459\n",
      "\n",
      "час виконання на 4 процесорах 0.164778470993042\n"
     ]
    }
   ],
   "source": [
    "from time import time\n",
    "from multiprocessing import Process, Pool, cpu_count\n",
    "\n",
    "def factorize(*numbers):\n",
    "    for number in numbers:\n",
    "        div = []\n",
    "        for divisors in range (1, number+1):\n",
    "            if number % divisors == 0:\n",
    "                div.append(divisors)\n",
    "        print(f'Divisors of {number} is {div}')\n",
    "        \n",
    "\n",
    "\n",
    "\n",
    "\n",
    "if __name__ == '__main__':\n",
    "    processors = cpu_count()\n",
    "    t1 = time()\n",
    "    result = factorize(128, 255, 99999, 10651060, 106510609)\n",
    "    print()\n",
    "    print(f'час виконання лінійно: {time() - t1}')\n",
    "    print()\n",
    "    t2 = time()\n",
    "    pool = Pool(processors)\n",
    "    result = pool.apply_async(factorize, (128, 255, 99999, 10651060, 106510609))\n",
    "    print(f'час виконання на {processors} процесорах {time() - t2}')\n",
    "    print(result.get())\n",
    "\n",
    "\n",
    "\n"
   ]
  },
  {
   "cell_type": "code",
   "execution_count": null,
   "metadata": {},
   "outputs": [],
   "source": [
    "from time import time\n",
    "from multiprocessing import Pool, cpu_count\n",
    "\n",
    "\n",
    "def factorize(*number) -> dict:\n",
    "    output = {}\n",
    "    for i in number:\n",
    "        division_numbers = []\n",
    "        min_count = 1\n",
    "\n",
    "        while min_count <= i:\n",
    "            if i % min_count == 0:\n",
    "                division_numbers.append(min_count)\n",
    "                min_count += 1\n",
    "            else:\n",
    "                min_count += 1\n",
    "\n",
    "        output[i] = division_numbers\n",
    "\n",
    "    return output\n",
    "\n",
    "\n",
    "if __name__ == '__main__':\n",
    "    processors = cpu_count()\n",
    "    t1 = time()\n",
    "    result = factorize(128, 255, 99999, 10651060)\n",
    "    print(f'час виконання лінійно: {time() - t1}')\n",
    "    print(result)\n",
    "    t2 = time()\n",
    "    pool = Pool(processors)\n",
    "    result = pool.apply_async(factorize, (128, 255, 99999, 10651060))\n",
    "    print(f'час виконання на {processors} процесорах {time() - t2}')\n",
    "    print(result.get())"
   ]
  }
 ],
 "metadata": {
  "kernelspec": {
   "display_name": "Python 3",
   "language": "python",
   "name": "python3"
  },
  "language_info": {
   "codemirror_mode": {
    "name": "ipython",
    "version": 3
   },
   "file_extension": ".py",
   "mimetype": "text/x-python",
   "name": "python",
   "nbconvert_exporter": "python",
   "pygments_lexer": "ipython3",
   "version": "3.10.9"
  },
  "orig_nbformat": 4,
  "vscode": {
   "interpreter": {
    "hash": "ed7be02089ffed073fc94961a2816327ba503e6ccd40fc2b18e98827abff8348"
   }
  }
 },
 "nbformat": 4,
 "nbformat_minor": 2
}
